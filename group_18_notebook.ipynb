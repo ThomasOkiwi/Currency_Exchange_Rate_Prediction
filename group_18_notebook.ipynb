{
 "cells": [
  {
   "cell_type": "markdown",
   "id": "1255470a",
   "metadata": {},
   "source": [
    "## <span style=\"color:blue\">Group 18 Phase 4 Project Submission</span>\n",
    "\n",
    "# CURRENCY EXCHANGE RATE PREDICTION\n",
    "<span style=\"color:blue\">**Students names:**</span>\n",
    "1. Francis Njenga\n",
    "2. Thomas Okiwi\n",
    "2. Leonard Gachimu"
   ]
  },
  {
   "cell_type": "code",
   "execution_count": 1,
   "metadata": {},
   "outputs": [],
   "source": [
    "import numpy as np"
   ]
  }
 ],
 "metadata": {
  "kernelspec": {
   "display_name": "Python (learn-env)",
   "language": "python",
   "name": "learn-env"
  },
  "language_info": {
   "codemirror_mode": {
    "name": "ipython",
    "version": 3
   },
   "file_extension": ".py",
   "mimetype": "text/x-python",
   "name": "python",
   "nbconvert_exporter": "python",
   "pygments_lexer": "ipython3",
   "version": "3.8.5"
  }
 },
 "nbformat": 4,
 "nbformat_minor": 5
}
