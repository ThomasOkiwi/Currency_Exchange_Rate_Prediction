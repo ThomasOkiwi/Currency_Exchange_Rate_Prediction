{
 "cells": [
  {
   "cell_type": "markdown",
   "id": "4fad9f18",
   "metadata": {},
   "source": [
    "## <span style=\"color:blue\">Group 18 Phase 4 Project Submission</span>\n",
    "\n",
    "# CURRENCY EXCHANGE RATE PREDICTION\n",
    "<span style=\"color:blue\">**Students names:**</span>\n",
    "1. Francis Njenga\n",
    "2. Thomas Okiwi\n",
    "2. Leonard Gachimu"
   ]
  },
  {
   "cell_type": "code",
   "execution_count": 1,
   "id": "73ca0208",
   "metadata": {},
   "outputs": [],
   "source": [
    "import pandas as pd\n",
    "import numpy as np\n",
    "import matplotlib.pyplot as plt\n",
    "\n",
    "import seaborn as sns\n",
    "import plotly.express as px\n",
    "\n",
    "\n",
    "import warnings\n",
    "\n",
    "# Ignore documentation warnings\n",
    "warnings.filterwarnings(\"ignore\", category=UserWarning, module='sphinx')"
   ]
  },
  {
   "cell_type": "code",
   "execution_count": 2,
   "id": "011219c9",
   "metadata": {},
   "outputs": [],
   "source": [
    "import pandas as pd"
   ]
  },
  {
   "cell_type": "code",
   "execution_count": 3,
   "id": "7617e628",
   "metadata": {},
   "outputs": [],
   "source": [
    "import seaborn as sns"
   ]
  },
  {
   "cell_type": "markdown",
   "id": "977efbe1",
   "metadata": {},
   "source": [
    "## Business Understanding"
   ]
  },
  {
   "cell_type": "markdown",
   "id": "9b8896c3",
   "metadata": {},
   "source": [
    "In the dynamic realm of forex trading, delving into the intricacies of analyzing BTC/USD for a data science project requires a blend of technical prowess and market intuition. At its core, a forex company's success hinges on its ability to decipher patterns, derive insights, and make informed decisions in the volatile landscape of cryptocurrency.\n",
    "\n",
    "To embark on this data science journey, one must first acknowledge the unique nature of BTC/USD trading. Unlike traditional fiat currencies, Bitcoin operates in a decentralized ecosystem, susceptible to a myriad of factors ranging from market sentiment to regulatory developments. As such, any comprehensive analysis must transcend traditional forex metrics and incorporate the idiosyncrasies of the cryptocurrency market.\n",
    "\n",
    "Fundamental analysis is a key pillar in understanding the dynamics of BTC/USD. Factors such as macroeconomic indicators, regulatory shifts, and technological advancements play a pivotal role in shaping Bitcoin's value. The global economic landscape, inflationary pressures, and institutional adoption are variables that demand meticulous examination.\n",
    "\n",
    "On the technical front, deploying advanced algorithms and machine learning models becomes imperative. Time series analysis, sentiment analysis, and pattern recognition algorithms can unravel hidden trends within the price movements of BTC/USD. As cryptocurrencies often exhibit distinct behavioral patterns, these models can offer a predictive edge, allowing the forex company to stay ahead of market fluctuations.\n",
    "\n",
    "Risk management is another critical facet that cannot be understated. The inherent volatility of BTC/USD necessitates robust risk mitigation strategies. Utilizing data-driven insights, a forex company can optimize position sizing, set stop-loss levels, and establish risk-reward ratios tailored to the unique characteristics of the cryptocurrency market.\n",
    "\n",
    "Furthermore, the integration of real-time data feeds and APIs is paramount for staying abreast of market developments. In the fast-paced world of forex, timely and accurate information can make the difference between seizing an opportunity and incurring a loss.\n",
    "\n",
    "In conclusion, a profound business understanding of analyzing BTC/USD for a data science project in the context of a forex company demands a holistic approach. By amalgamating fundamental insights, technical acumen, and cutting-edge data science methodologies, the company can navigate the complexities of the cryptocurrency market, ultimately fostering informed decision-making and sustainable success."
   ]
  },
  {
   "cell_type": "code",
   "execution_count": 4,
   "id": "d9db39f2",
   "metadata": {},
   "outputs": [
    {
     "data": {
      "text/html": [
       "<div>\n",
       "<style scoped>\n",
       "    .dataframe tbody tr th:only-of-type {\n",
       "        vertical-align: middle;\n",
       "    }\n",
       "\n",
       "    .dataframe tbody tr th {\n",
       "        vertical-align: top;\n",
       "    }\n",
       "\n",
       "    .dataframe thead th {\n",
       "        text-align: right;\n",
       "    }\n",
       "</style>\n",
       "<table border=\"1\" class=\"dataframe\">\n",
       "  <thead>\n",
       "    <tr style=\"text-align: right;\">\n",
       "      <th></th>\n",
       "      <th>Date</th>\n",
       "      <th>Price</th>\n",
       "      <th>Open</th>\n",
       "      <th>High</th>\n",
       "      <th>Low</th>\n",
       "      <th>Vol.</th>\n",
       "      <th>Change %</th>\n",
       "    </tr>\n",
       "  </thead>\n",
       "  <tbody>\n",
       "    <tr>\n",
       "      <th>0</th>\n",
       "      <td>11/29/2023</td>\n",
       "      <td>38,046.70</td>\n",
       "      <td>37,823.30</td>\n",
       "      <td>38,362.90</td>\n",
       "      <td>37,686.50</td>\n",
       "      <td>67.23K</td>\n",
       "      <td>0.59%</td>\n",
       "    </tr>\n",
       "    <tr>\n",
       "      <th>1</th>\n",
       "      <td>11/28/2023</td>\n",
       "      <td>37,823.30</td>\n",
       "      <td>37,244.30</td>\n",
       "      <td>38,379.40</td>\n",
       "      <td>36,881.10</td>\n",
       "      <td>57.50K</td>\n",
       "      <td>1.54%</td>\n",
       "    </tr>\n",
       "    <tr>\n",
       "      <th>2</th>\n",
       "      <td>11/27/2023</td>\n",
       "      <td>37,248.60</td>\n",
       "      <td>37,451.80</td>\n",
       "      <td>37,563.30</td>\n",
       "      <td>36,751.50</td>\n",
       "      <td>45.24K</td>\n",
       "      <td>-0.54%</td>\n",
       "    </tr>\n",
       "    <tr>\n",
       "      <th>3</th>\n",
       "      <td>11/26/2023</td>\n",
       "      <td>37,451.80</td>\n",
       "      <td>37,786.40</td>\n",
       "      <td>37,819.10</td>\n",
       "      <td>37,166.30</td>\n",
       "      <td>29.20K</td>\n",
       "      <td>-0.89%</td>\n",
       "    </tr>\n",
       "    <tr>\n",
       "      <th>4</th>\n",
       "      <td>11/25/2023</td>\n",
       "      <td>37,787.00</td>\n",
       "      <td>37,718.60</td>\n",
       "      <td>37,887.40</td>\n",
       "      <td>37,599.90</td>\n",
       "      <td>16.09K</td>\n",
       "      <td>0.18%</td>\n",
       "    </tr>\n",
       "  </tbody>\n",
       "</table>\n",
       "</div>"
      ],
      "text/plain": [
       "         Date      Price       Open       High        Low    Vol. Change %\n",
       "0  11/29/2023  38,046.70  37,823.30  38,362.90  37,686.50  67.23K    0.59%\n",
       "1  11/28/2023  37,823.30  37,244.30  38,379.40  36,881.10  57.50K    1.54%\n",
       "2  11/27/2023  37,248.60  37,451.80  37,563.30  36,751.50  45.24K   -0.54%\n",
       "3  11/26/2023  37,451.80  37,786.40  37,819.10  37,166.30  29.20K   -0.89%\n",
       "4  11/25/2023  37,787.00  37,718.60  37,887.40  37,599.90  16.09K    0.18%"
      ]
     },
     "execution_count": 4,
     "metadata": {},
     "output_type": "execute_result"
    }
   ],
   "source": [
    "stock= pd.read_csv(\"BTC_USD_Historical_Data.csv\")\n",
    "stock.head()"
   ]
  },
  {
   "cell_type": "code",
   "execution_count": 5,
   "id": "7a2e63b9",
   "metadata": {
    "scrolled": true
   },
   "outputs": [
    {
     "name": "stdout",
     "output_type": "stream",
     "text": [
      "<class 'pandas.core.frame.DataFrame'>\n",
      "RangeIndex: 4883 entries, 0 to 4882\n",
      "Data columns (total 7 columns):\n",
      " #   Column    Non-Null Count  Dtype \n",
      "---  ------    --------------  ----- \n",
      " 0   Date      4883 non-null   object\n",
      " 1   Price     4883 non-null   object\n",
      " 2   Open      4883 non-null   object\n",
      " 3   High      4883 non-null   object\n",
      " 4   Low       4883 non-null   object\n",
      " 5   Vol.      4877 non-null   object\n",
      " 6   Change %  4883 non-null   object\n",
      "dtypes: object(7)\n",
      "memory usage: 267.2+ KB\n"
     ]
    }
   ],
   "source": [
    "stock.info()"
   ]
  },
  {
   "cell_type": "code",
   "execution_count": 6,
   "id": "038b14e8",
   "metadata": {},
   "outputs": [
    {
     "data": {
      "text/plain": [
       "Date        0\n",
       "Price       0\n",
       "Open        0\n",
       "High        0\n",
       "Low         0\n",
       "Vol.        6\n",
       "Change %    0\n",
       "dtype: int64"
      ]
     },
     "execution_count": 6,
     "metadata": {},
     "output_type": "execute_result"
    }
   ],
   "source": [
    "# Number of missing values in dataframe\n",
    "stock.isna().sum()"
   ]
  },
  {
   "cell_type": "markdown",
   "id": "f9e54dcb",
   "metadata": {},
   "source": [
    "Since the values in volumn column are currently object type with irregular characters, it is not possible to compute measures of central tendency or plot a distribution of the values.\n",
    "We therefore, cannot statitically determine what to replace the missing values with and since they are only 6 out of 4,883 rows, we chose to delete them."
   ]
  },
  {
   "cell_type": "code",
   "execution_count": 7,
   "id": "63fa9fa2",
   "metadata": {},
   "outputs": [],
   "source": [
    "# Delete rows with missing values\n",
    "stock.dropna(inplace=True)"
   ]
  },
  {
   "cell_type": "markdown",
   "id": "56fd18e8",
   "metadata": {},
   "source": [
    "Inspect the value counts in volume column"
   ]
  },
  {
   "cell_type": "code",
   "execution_count": 8,
   "id": "c94ac67b",
   "metadata": {},
   "outputs": [
    {
     "data": {
      "text/plain": [
       "1.05M      6\n",
       "1.04M      5\n",
       "14.73K     5\n",
       "1.18M      5\n",
       "1.11M      4\n",
       "          ..\n",
       "956.52K    1\n",
       "840.76K    1\n",
       "747.71K    1\n",
       "738.17K    1\n",
       "0.08K      1\n",
       "Name: Vol., Length: 4335, dtype: int64"
      ]
     },
     "execution_count": 8,
     "metadata": {},
     "output_type": "execute_result"
    }
   ],
   "source": [
    "stock['Vol.'].value_counts()"
   ]
  },
  {
   "cell_type": "markdown",
   "id": "3e3d2807",
   "metadata": {},
   "source": [
    "The volume column has several unique values and we notice that they are ending with letters such as K and M to denote multiples of thousands, millions, and so on.\n",
    "We will use a regex function to extract all the unique suffixes and one representative value per suffix. "
   ]
  },
  {
   "cell_type": "code",
   "execution_count": 9,
   "id": "553feecf",
   "metadata": {},
   "outputs": [
    {
     "name": "stdout",
     "output_type": "stream",
     "text": [
      "Suffix K: 67.23K\n",
      "Suffix M: 671.05M\n",
      "Suffix B: 1.04B\n"
     ]
    },
    {
     "name": "stderr",
     "output_type": "stream",
     "text": [
      "C:\\Users\\USER PC\\AppData\\Local\\Temp\\ipykernel_15972\\4104812573.py:21: UserWarning: This pattern is interpreted as a regular expression, and has match groups. To actually get the groups, use str.extract.\n",
      "  stock[~(stock['Vol.'].str.contains(r'(\\D+)$'))]\n"
     ]
    },
    {
     "data": {
      "text/html": [
       "<div>\n",
       "<style scoped>\n",
       "    .dataframe tbody tr th:only-of-type {\n",
       "        vertical-align: middle;\n",
       "    }\n",
       "\n",
       "    .dataframe tbody tr th {\n",
       "        vertical-align: top;\n",
       "    }\n",
       "\n",
       "    .dataframe thead th {\n",
       "        text-align: right;\n",
       "    }\n",
       "</style>\n",
       "<table border=\"1\" class=\"dataframe\">\n",
       "  <thead>\n",
       "    <tr style=\"text-align: right;\">\n",
       "      <th></th>\n",
       "      <th>Date</th>\n",
       "      <th>Price</th>\n",
       "      <th>Open</th>\n",
       "      <th>High</th>\n",
       "      <th>Low</th>\n",
       "      <th>Vol.</th>\n",
       "      <th>Change %</th>\n",
       "    </tr>\n",
       "  </thead>\n",
       "  <tbody>\n",
       "  </tbody>\n",
       "</table>\n",
       "</div>"
      ],
      "text/plain": [
       "Empty DataFrame\n",
       "Columns: [Date, Price, Open, High, Low, Vol., Change %]\n",
       "Index: []"
      ]
     },
     "execution_count": 9,
     "metadata": {},
     "output_type": "execute_result"
    }
   ],
   "source": [
    "# Import regex\n",
    "import re\n",
    "\n",
    "# Extract rows with suffix letters using a regex expression\n",
    "suffixes = stock['Vol.'].str.extract(r'(\\D+)$')[0]\n",
    "\n",
    "# Create a dictionary to store unique values for each suffix\n",
    "unique_values = {}\n",
    "for suffix in suffixes.unique():\n",
    "    # Get values with the current suffix\n",
    "    values_with_suffix = stock[stock['Vol.'].str.endswith(suffix)]['Vol.']\n",
    "    # Get the first value for the suffix\n",
    "    representative_value = values_with_suffix.iloc[0]\n",
    "    unique_values[suffix] = representative_value\n",
    "\n",
    "# Print the unique values for each suffix\n",
    "for suffix, value in unique_values.items():\n",
    "    print(f\"Suffix {suffix}: {value}\")\n",
    "    \n",
    "# Print rows without a suffix letter in the volume column\n",
    "stock[~(stock['Vol.'].str.contains(r'(\\D+)$'))]"
   ]
  },
  {
   "cell_type": "markdown",
   "id": "6fed151e",
   "metadata": {},
   "source": [
    "There are no values without a suffix letter. We will next strip the suffix letters, convert the remaining number to a float type and multiply it with the corresponding multiplier for the letter."
   ]
  },
  {
   "cell_type": "code",
   "execution_count": 10,
   "id": "0bd35c3d",
   "metadata": {},
   "outputs": [],
   "source": [
    "# Strip suffix letters from volume column and convert to respective numeric figure\n",
    "for index, row in stock.iterrows():\n",
    "    if 'K' in row['Vol.']:\n",
    "        row_value = round(float(row['Vol.'].strip('K')) * 1000)\n",
    "        stock.at[index, 'Vol.'] = row_value\n",
    "    elif 'M' in row['Vol.']:\n",
    "        row_value = round(float(row['Vol.'].strip('M')) * 1000000)\n",
    "        stock.at[index, 'Vol.'] = row_value\n",
    "    elif 'B' in row['Vol.']:\n",
    "        row_value = round(float(row['Vol.'].strip('B')) * 1000000000)\n",
    "        stock.at[index, 'Vol.'] = row_value       "
   ]
  },
  {
   "cell_type": "code",
   "execution_count": 11,
   "id": "aab93786",
   "metadata": {},
   "outputs": [
    {
     "data": {
      "text/html": [
       "<div>\n",
       "<style scoped>\n",
       "    .dataframe tbody tr th:only-of-type {\n",
       "        vertical-align: middle;\n",
       "    }\n",
       "\n",
       "    .dataframe tbody tr th {\n",
       "        vertical-align: top;\n",
       "    }\n",
       "\n",
       "    .dataframe thead th {\n",
       "        text-align: right;\n",
       "    }\n",
       "</style>\n",
       "<table border=\"1\" class=\"dataframe\">\n",
       "  <thead>\n",
       "    <tr style=\"text-align: right;\">\n",
       "      <th></th>\n",
       "      <th>Date</th>\n",
       "      <th>Price</th>\n",
       "      <th>Open</th>\n",
       "      <th>High</th>\n",
       "      <th>Low</th>\n",
       "      <th>Vol.</th>\n",
       "      <th>Change %</th>\n",
       "    </tr>\n",
       "  </thead>\n",
       "  <tbody>\n",
       "    <tr>\n",
       "      <th>0</th>\n",
       "      <td>11/29/2023</td>\n",
       "      <td>38,046.70</td>\n",
       "      <td>37,823.30</td>\n",
       "      <td>38,362.90</td>\n",
       "      <td>37,686.50</td>\n",
       "      <td>67230</td>\n",
       "      <td>0.59%</td>\n",
       "    </tr>\n",
       "    <tr>\n",
       "      <th>1</th>\n",
       "      <td>11/28/2023</td>\n",
       "      <td>37,823.30</td>\n",
       "      <td>37,244.30</td>\n",
       "      <td>38,379.40</td>\n",
       "      <td>36,881.10</td>\n",
       "      <td>57500</td>\n",
       "      <td>1.54%</td>\n",
       "    </tr>\n",
       "    <tr>\n",
       "      <th>2</th>\n",
       "      <td>11/27/2023</td>\n",
       "      <td>37,248.60</td>\n",
       "      <td>37,451.80</td>\n",
       "      <td>37,563.30</td>\n",
       "      <td>36,751.50</td>\n",
       "      <td>45240</td>\n",
       "      <td>-0.54%</td>\n",
       "    </tr>\n",
       "    <tr>\n",
       "      <th>3</th>\n",
       "      <td>11/26/2023</td>\n",
       "      <td>37,451.80</td>\n",
       "      <td>37,786.40</td>\n",
       "      <td>37,819.10</td>\n",
       "      <td>37,166.30</td>\n",
       "      <td>29200</td>\n",
       "      <td>-0.89%</td>\n",
       "    </tr>\n",
       "    <tr>\n",
       "      <th>4</th>\n",
       "      <td>11/25/2023</td>\n",
       "      <td>37,787.00</td>\n",
       "      <td>37,718.60</td>\n",
       "      <td>37,887.40</td>\n",
       "      <td>37,599.90</td>\n",
       "      <td>16090</td>\n",
       "      <td>0.18%</td>\n",
       "    </tr>\n",
       "    <tr>\n",
       "      <th>...</th>\n",
       "      <td>...</td>\n",
       "      <td>...</td>\n",
       "      <td>...</td>\n",
       "      <td>...</td>\n",
       "      <td>...</td>\n",
       "      <td>...</td>\n",
       "      <td>...</td>\n",
       "    </tr>\n",
       "    <tr>\n",
       "      <th>4878</th>\n",
       "      <td>7/22/2010</td>\n",
       "      <td>0.1</td>\n",
       "      <td>0.1</td>\n",
       "      <td>0.1</td>\n",
       "      <td>0.1</td>\n",
       "      <td>2160</td>\n",
       "      <td>0.00%</td>\n",
       "    </tr>\n",
       "    <tr>\n",
       "      <th>4879</th>\n",
       "      <td>7/21/2010</td>\n",
       "      <td>0.1</td>\n",
       "      <td>0.1</td>\n",
       "      <td>0.1</td>\n",
       "      <td>0.1</td>\n",
       "      <td>580</td>\n",
       "      <td>0.00%</td>\n",
       "    </tr>\n",
       "    <tr>\n",
       "      <th>4880</th>\n",
       "      <td>7/20/2010</td>\n",
       "      <td>0.1</td>\n",
       "      <td>0.1</td>\n",
       "      <td>0.1</td>\n",
       "      <td>0.1</td>\n",
       "      <td>260</td>\n",
       "      <td>0.00%</td>\n",
       "    </tr>\n",
       "    <tr>\n",
       "      <th>4881</th>\n",
       "      <td>7/19/2010</td>\n",
       "      <td>0.1</td>\n",
       "      <td>0.1</td>\n",
       "      <td>0.1</td>\n",
       "      <td>0.1</td>\n",
       "      <td>570</td>\n",
       "      <td>0.00%</td>\n",
       "    </tr>\n",
       "    <tr>\n",
       "      <th>4882</th>\n",
       "      <td>7/18/2010</td>\n",
       "      <td>0.1</td>\n",
       "      <td>0</td>\n",
       "      <td>0.1</td>\n",
       "      <td>0.1</td>\n",
       "      <td>80</td>\n",
       "      <td>0.00%</td>\n",
       "    </tr>\n",
       "  </tbody>\n",
       "</table>\n",
       "<p>4877 rows × 7 columns</p>\n",
       "</div>"
      ],
      "text/plain": [
       "            Date      Price       Open       High        Low   Vol. Change %\n",
       "0     11/29/2023  38,046.70  37,823.30  38,362.90  37,686.50  67230    0.59%\n",
       "1     11/28/2023  37,823.30  37,244.30  38,379.40  36,881.10  57500    1.54%\n",
       "2     11/27/2023  37,248.60  37,451.80  37,563.30  36,751.50  45240   -0.54%\n",
       "3     11/26/2023  37,451.80  37,786.40  37,819.10  37,166.30  29200   -0.89%\n",
       "4     11/25/2023  37,787.00  37,718.60  37,887.40  37,599.90  16090    0.18%\n",
       "...          ...        ...        ...        ...        ...    ...      ...\n",
       "4878   7/22/2010        0.1        0.1        0.1        0.1   2160    0.00%\n",
       "4879   7/21/2010        0.1        0.1        0.1        0.1    580    0.00%\n",
       "4880   7/20/2010        0.1        0.1        0.1        0.1    260    0.00%\n",
       "4881   7/19/2010        0.1        0.1        0.1        0.1    570    0.00%\n",
       "4882   7/18/2010        0.1          0        0.1        0.1     80    0.00%\n",
       "\n",
       "[4877 rows x 7 columns]"
      ]
     },
     "execution_count": 11,
     "metadata": {},
     "output_type": "execute_result"
    }
   ],
   "source": [
    "# Confirm changes to volume column\n",
    "stock"
   ]
  },
  {
   "cell_type": "code",
   "execution_count": 12,
   "id": "84ac826d",
   "metadata": {},
   "outputs": [
    {
     "data": {
      "text/html": [
       "<div>\n",
       "<style scoped>\n",
       "    .dataframe tbody tr th:only-of-type {\n",
       "        vertical-align: middle;\n",
       "    }\n",
       "\n",
       "    .dataframe tbody tr th {\n",
       "        vertical-align: top;\n",
       "    }\n",
       "\n",
       "    .dataframe thead th {\n",
       "        text-align: right;\n",
       "    }\n",
       "</style>\n",
       "<table border=\"1\" class=\"dataframe\">\n",
       "  <thead>\n",
       "    <tr style=\"text-align: right;\">\n",
       "      <th></th>\n",
       "      <th>0</th>\n",
       "    </tr>\n",
       "  </thead>\n",
       "  <tbody>\n",
       "    <tr>\n",
       "      <th>0</th>\n",
       "      <td>%</td>\n",
       "    </tr>\n",
       "    <tr>\n",
       "      <th>1</th>\n",
       "      <td>%</td>\n",
       "    </tr>\n",
       "    <tr>\n",
       "      <th>2</th>\n",
       "      <td>%</td>\n",
       "    </tr>\n",
       "    <tr>\n",
       "      <th>3</th>\n",
       "      <td>%</td>\n",
       "    </tr>\n",
       "    <tr>\n",
       "      <th>4</th>\n",
       "      <td>%</td>\n",
       "    </tr>\n",
       "    <tr>\n",
       "      <th>...</th>\n",
       "      <td>...</td>\n",
       "    </tr>\n",
       "    <tr>\n",
       "      <th>4878</th>\n",
       "      <td>%</td>\n",
       "    </tr>\n",
       "    <tr>\n",
       "      <th>4879</th>\n",
       "      <td>%</td>\n",
       "    </tr>\n",
       "    <tr>\n",
       "      <th>4880</th>\n",
       "      <td>%</td>\n",
       "    </tr>\n",
       "    <tr>\n",
       "      <th>4881</th>\n",
       "      <td>%</td>\n",
       "    </tr>\n",
       "    <tr>\n",
       "      <th>4882</th>\n",
       "      <td>%</td>\n",
       "    </tr>\n",
       "  </tbody>\n",
       "</table>\n",
       "<p>4877 rows × 1 columns</p>\n",
       "</div>"
      ],
      "text/plain": [
       "      0\n",
       "0     %\n",
       "1     %\n",
       "2     %\n",
       "3     %\n",
       "4     %\n",
       "...  ..\n",
       "4878  %\n",
       "4879  %\n",
       "4880  %\n",
       "4881  %\n",
       "4882  %\n",
       "\n",
       "[4877 rows x 1 columns]"
      ]
     },
     "execution_count": 12,
     "metadata": {},
     "output_type": "execute_result"
    }
   ],
   "source": [
    "stock['Change %'].str.extract(r'(%+)$')"
   ]
  }
 ],
 "metadata": {
  "kernelspec": {
   "display_name": "Python (learn-env)",
   "language": "python",
   "name": "learn-env"
  },
  "language_info": {
   "codemirror_mode": {
    "name": "ipython",
    "version": 3
   },
   "file_extension": ".py",
   "mimetype": "text/x-python",
   "name": "python",
   "nbconvert_exporter": "python",
   "pygments_lexer": "ipython3",
   "version": "3.8.1"
  }
 },
 "nbformat": 4,
 "nbformat_minor": 5
}
